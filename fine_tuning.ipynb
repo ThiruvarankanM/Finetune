{
 "cells": [
  {
   "cell_type": "code",
   "execution_count": 21,
   "id": "23dcd606",
   "metadata": {},
   "outputs": [],
   "source": [
    "import torch\n",
    "from transformers import AutoModelForCausalLM, AutoTokenizer, TrainingArguments, Trainer\n",
    "from datasets import Dataset\n"
   ]
  },
  {
   "cell_type": "code",
   "execution_count": 22,
   "id": "5a85e045",
   "metadata": {},
   "outputs": [
    {
     "name": "stdout",
     "output_type": "stream",
     "text": [
      "Dataset({\n",
      "    features: ['text'],\n",
      "    num_rows: 12\n",
      "})\n"
     ]
    }
   ],
   "source": [
    "data = [\n",
    "    {\"text\": \"University: University of Moratuwa.\\nDepartment: Electrical Engineering.\\nLocation: Sumanadasa Building (Levels 1 & 2), Katubedda, Moratuwa.\\nContact: Tel +94 11 2650301 Ext: 3200–3201, Fax +94 11 2650622.\"},\n",
    "    {\"text\": \"Head of Department: Prof. W. D. A. S. Wijayapala (appointed effective 20 Oct 2022). Last HOD was Prof. Udayanga Hemapala (from Jan 2021). Research interests: energy planning, power systems, renewable energy, industrial safety.\"},\n",
    "    {\"text\": \"Senior Professors: Snr. Prof. Sisil Kumarawadu, Snr. Prof. Nalin Wickramarachchi.\\nMembers focusing on Quality Assurance: Prof. D. P. Chandima (QA Coordinator). Student Counsellor: Prof. L. N. Widanagama Arachchige.\"},\n",
    "    {\"text\": \"Professors: Prof. K.T.M.U. Hemapala; Prof. A.G.B.P. Jayasekara; Prof. D.P. Chandima; Prof. L.N. Widanagama Arachchige; Prof. W.D.A.S. Rodrigo.\"},\n",
    "    {\"text\": \"Associate Professor: Prof. J.P. Karunadasa. Senior Lecturer Gr. I: Dr. A.M.H.S. Abeykoon; Dr. S.K. Abeygunawardane; Dr. R.M.T. Damayanthi; Dr. W.D. Prasad; Dr. Rasara Samarasinghe.\"},\n",
    "    {\"text\": \"Senior Lecturer Gr. II: Dr. V. Logeeshan; Dr. R.M. Maheshi Ruwanthika; Dr. S.D.M.S. Gunawardana; Ms. K.A.T. Lasagani; Lecturer (Probationary): Mr. S.R.A. Bolonne.\"},\n",
    "    {\"text\": \"Academic Coordinators (UG BSc): Semester 1 – Dr. W.D. Prasad; Semester 2 – Dr. R. Samarasinghe; Sem 3 – Prof. A.G.B.P. Jayasekara; Sem 4 – Dr. R.M.T. Damayanthi; Sem 5 – Mrs. K.A.T. Lasagani; Sem 6 – Dr. S.D.M.S. Gunawardana; Sem 7 – Dr. R.M.M. Ruwanthika; Sem 8 – Prof. W.D.A.S. Rodrigo.\"},\n",
    "    {\"text\": \"PG Coordinators: MSc/PG Diploma Electrical Engineering – Prof. L. N. Widanagama Arachchige; Electrical Installations – Dr. R.M.T. Damayanthi; Industrial Automation – Prof. A.G.B.P. Jayasekara; PG Certificate Industrial Automation – Dr. L. Velmanickam.\"},\n",
    "    {\"text\": \"Laboratories: Electrical Measurement; Power Systems; Electrical Machines; Controlled Drives; Nuclear Measurements; High Voltage; Computer Systems; Wiring Diagram & Electrical Construction.\"},\n",
    "    {\"text\": \"Student Body: approx. 70 undergraduate intake; ~100 postgraduate students annually; department hosts short continuing‑education courses for engineers; strong consultancy links to CEB, SLT and power industry.\"},\n",
    "    {\"text\": \"Support staff: Clerk assisting HOD – Mr. L. Kushan. Computer services: ~35 PCs, NT & UNIX servers, campus LAN and LEARN network in labs and staff rooms.\"},\n",
    "    {\"text\": \"Notable alumnus: Emeritus Prof. Sam Karunaratne — department’s first professor (1969–2002), founded Computer Engineering dept at UoM; Professor Mahinda Vilathgamuwa — notable power engineering academic trained at UoM and Cambridge.\"}\n",
    "]\n",
    "\n",
    "dataset = Dataset.from_list(data)\n",
    "print(dataset)\n"
   ]
  },
  {
   "cell_type": "code",
   "execution_count": null,
   "id": "56b787cc",
   "metadata": {},
   "outputs": [],
   "source": [
    "dataset = Dataset.from_list(data)\n",
    "model_name = \"deepseek-ai/deepseek-coder-1.3b-instruct\"\n",
    "tokenziser = AutoTokenizer.from_pretrained(model_name)\n",
    "model = AutoModelForCausalLM.from_pretrained(model_name)"
   ]
  },
  {
   "cell_type": "code",
   "execution_count": null,
   "id": "5ba6a92a",
   "metadata": {},
   "outputs": [],
   "source": [
    "def tokenize_function(examples):\n",
    "    tokens = tokenziser(examples['text'],\n",
    "                        truncation=True,\n",
    "                        max_length=64,\n",
    "                        padding='max_length')\n",
    "    tokens['labels'] = tokens('input_ids'.copy())"
   ]
  },
  {
   "cell_type": "code",
   "execution_count": null,
   "id": "bd7839d1",
   "metadata": {},
   "outputs": [],
   "source": [
    "tokenized_dataset = dataset.map(tokenize_function,batched=True)"
   ]
  },
  {
   "cell_type": "code",
   "execution_count": null,
   "id": "389cd55e",
   "metadata": {},
   "outputs": [],
   "source": [
    "training_args = TrainingArguments(\n",
    "    output_dir= './fast_finetuned',\n",
    "    per_device_train_batch_size=1,\n",
    "    max_train_epochs=1,\n",
    "    max_steps = 10,\n",
    "    logging_steps=1,\n",
    "    no_cuda=True,\n",
    "    fp16=False\n",
    ")"
   ]
  },
  {
   "cell_type": "code",
   "execution_count": null,
   "id": "e7cda873",
   "metadata": {},
   "outputs": [],
   "source": [
    "trainer = Trainer(\n",
    "    model = model,\n",
    "    args = training_args,\n",
    "    train_dataset = tokenized_dataset\n",
    ")"
   ]
  },
  {
   "cell_type": "code",
   "execution_count": null,
   "id": "1d25dc04",
   "metadata": {},
   "outputs": [],
   "source": [
    "trainer.train()"
   ]
  },
  {
   "cell_type": "code",
   "execution_count": null,
   "id": "58eb2072",
   "metadata": {},
   "outputs": [],
   "source": [
    "trainer.save_model('./fast_finetuned')\n",
    "tokenizer.save_pretrained('./fast_finetuned')"
   ]
  },
  {
   "cell_type": "code",
   "execution_count": null,
   "id": "ab5f4ecf",
   "metadata": {},
   "outputs": [],
   "source": [
    "def generate_response(prompt, max_length = 64):\n",
    "    inputs = tokenizer(prompt, return_tensors = 'pt')\n",
    "    outputs = model.generate(**inputs,max_length = max_length)\n",
    "    return tokenizer.decode(outputs[0], skip_special_tokens = True)"
   ]
  },
  {
   "cell_type": "code",
   "execution_count": null,
   "id": "ba42e346",
   "metadata": {},
   "outputs": [],
   "source": [
    "prompt = \"Summarize the key academic staff and research areas of the University of Moratuwa Electrical Engineering department.\"\n",
    "print(\"🔹 Model Output:\", generate_response(prompt))"
   ]
  }
 ],
 "metadata": {
  "kernelspec": {
   "display_name": ".venv",
   "language": "python",
   "name": "python3"
  },
  "language_info": {
   "codemirror_mode": {
    "name": "ipython",
    "version": 3
   },
   "file_extension": ".py",
   "mimetype": "text/x-python",
   "name": "python",
   "nbconvert_exporter": "python",
   "pygments_lexer": "ipython3",
   "version": "3.13.5"
  }
 },
 "nbformat": 4,
 "nbformat_minor": 5
}
